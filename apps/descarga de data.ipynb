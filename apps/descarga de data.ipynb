{
 "cells": [
  {
   "cell_type": "markdown",
   "metadata": {},
   "source": [
    "## MES"
   ]
  },
  {
   "cell_type": "code",
   "execution_count": 1,
   "metadata": {},
   "outputs": [],
   "source": [
    "import pandas as pd\n",
    "import numpy as np\n",
    "import pyodbc\n",
    "\n",
    "sql_conn = pyodbc.connect('DRIVER={SQL Server};SERVER=51.222.82.146;DATABASE=STRATEGIO_OLAP_PROTISA;UID=Cesar_VS;PWD=Invernalia!2193;Trusted_Connection=no')\n",
    "query = \"SELECT d.Region,c.Categoria,c.Marca,c.Segmento,DATEPART(MONTH,a.CodigoFecha) AS MONTH,YEAR(a.CodigoFecha) AS YEAR,SUM(a.VentaSinIgv) AS VSIGV FROM [STRATEGIO_OLAP_PROTISA].[pbix].[Ventas] AS a LEFT JOIN [STRATEGIO_OLAP_PROTISA].[pbix].[Producto] AS c ON a.CodigoProductoDistribuidor = c.CodigoProducto LEFT JOIN [STRATEGIO_OLAP_PROTISA].[pbix].[Distribuidor] AS d ON a.CodigoDistribuidor = d.CodigoDistribuidor LEFT JOIN [STRATEGIO_OLAP_PROTISA].[pbix].[Cliente] AS e ON a.CodigoCliente = e.CodigoCliente WHERE YEAR(a.CodigoFecha)>=2017 AND YEAR(a.CodigoFecha)<=2021 AND a.CodigoDistribuidor not in ('20100239559.0','20100239559.1','20100239559.2','20100239559.3','20100239559.7','20100239559.9') AND c.Marca not in ('Ego','Ideal','Sussy') AND a.CodigoDistribuidor IS NOT NULL AND d.Canal NOT IN ('Farmacia') GROUP BY d.Region,c.Categoria,c.Marca,c.Segmento,DATEPART(MONTH,a.CodigoFecha),YEAR(a.CodigoFecha)\"\n",
    "dataset = pd.read_sql(query,sql_conn)"
   ]
  },
  {
   "cell_type": "code",
   "execution_count": 2,
   "metadata": {},
   "outputs": [
    {
     "data": {
      "text/html": [
       "<div>\n",
       "<style scoped>\n",
       "    .dataframe tbody tr th:only-of-type {\n",
       "        vertical-align: middle;\n",
       "    }\n",
       "\n",
       "    .dataframe tbody tr th {\n",
       "        vertical-align: top;\n",
       "    }\n",
       "\n",
       "    .dataframe thead th {\n",
       "        text-align: right;\n",
       "    }\n",
       "</style>\n",
       "<table border=\"1\" class=\"dataframe\">\n",
       "  <thead>\n",
       "    <tr style=\"text-align: right;\">\n",
       "      <th></th>\n",
       "      <th>Region</th>\n",
       "      <th>Categoria</th>\n",
       "      <th>Marca</th>\n",
       "      <th>Segmento</th>\n",
       "      <th>MONTH</th>\n",
       "      <th>YEAR</th>\n",
       "      <th>VSIGV</th>\n",
       "    </tr>\n",
       "  </thead>\n",
       "  <tbody>\n",
       "    <tr>\n",
       "      <th>0</th>\n",
       "      <td>LIMA</td>\n",
       "      <td>10 Toallas Femeninas</td>\n",
       "      <td>036 Ladysoft</td>\n",
       "      <td>30 Productos Sanitarios</td>\n",
       "      <td>5</td>\n",
       "      <td>2018</td>\n",
       "      <td>1.644216e+06</td>\n",
       "    </tr>\n",
       "    <tr>\n",
       "      <th>1</th>\n",
       "      <td>SUR</td>\n",
       "      <td>01 Higiénicos Masivos</td>\n",
       "      <td>003 Noble</td>\n",
       "      <td>10 Masivos</td>\n",
       "      <td>10</td>\n",
       "      <td>2018</td>\n",
       "      <td>3.684648e+06</td>\n",
       "    </tr>\n",
       "    <tr>\n",
       "      <th>2</th>\n",
       "      <td>CENTRO-ORIENTE</td>\n",
       "      <td>01 Mascarilla</td>\n",
       "      <td>001 Elite</td>\n",
       "      <td>30 Productos Sanitarios</td>\n",
       "      <td>12</td>\n",
       "      <td>2020</td>\n",
       "      <td>1.746209e+04</td>\n",
       "    </tr>\n",
       "    <tr>\n",
       "      <th>3</th>\n",
       "      <td>CENTRO-ORIENTE</td>\n",
       "      <td>02 Rollos de Cocina</td>\n",
       "      <td>001 Elite</td>\n",
       "      <td>10 Masivos</td>\n",
       "      <td>9</td>\n",
       "      <td>2019</td>\n",
       "      <td>5.419860e+05</td>\n",
       "    </tr>\n",
       "    <tr>\n",
       "      <th>4</th>\n",
       "      <td>CENTRO-ORIENTE</td>\n",
       "      <td>02 Rollos de Cocina</td>\n",
       "      <td>001 Elite</td>\n",
       "      <td>10 Masivos</td>\n",
       "      <td>1</td>\n",
       "      <td>2021</td>\n",
       "      <td>1.094454e+06</td>\n",
       "    </tr>\n",
       "  </tbody>\n",
       "</table>\n",
       "</div>"
      ],
      "text/plain": [
       "           Region              Categoria         Marca  \\\n",
       "0            LIMA   10 Toallas Femeninas  036 Ladysoft   \n",
       "1             SUR  01 Higiénicos Masivos     003 Noble   \n",
       "2  CENTRO-ORIENTE         01 Mascarilla      001 Elite   \n",
       "3  CENTRO-ORIENTE    02 Rollos de Cocina     001 Elite   \n",
       "4  CENTRO-ORIENTE    02 Rollos de Cocina     001 Elite   \n",
       "\n",
       "                  Segmento  MONTH  YEAR         VSIGV  \n",
       "0  30 Productos Sanitarios      5  2018  1.644216e+06  \n",
       "1               10 Masivos     10  2018  3.684648e+06  \n",
       "2  30 Productos Sanitarios     12  2020  1.746209e+04  \n",
       "3               10 Masivos      9  2019  5.419860e+05  \n",
       "4               10 Masivos      1  2021  1.094454e+06  "
      ]
     },
     "execution_count": 2,
     "metadata": {},
     "output_type": "execute_result"
    }
   ],
   "source": [
    "dataset.head()"
   ]
  },
  {
   "cell_type": "code",
   "execution_count": 3,
   "metadata": {},
   "outputs": [],
   "source": [
    "dataset.to_csv('vsigv_mes.csv')"
   ]
  },
  {
   "cell_type": "markdown",
   "metadata": {},
   "source": [
    "## QUINCENA"
   ]
  },
  {
   "cell_type": "code",
   "execution_count": 5,
   "metadata": {},
   "outputs": [],
   "source": [
    "sql_conn = pyodbc.connect('DRIVER={SQL Server};SERVER=51.222.82.146;DATABASE=STRATEGIO_OLAP_PROTISA;UID=Cesar_VS;PWD=Invernalia!2193;Trusted_Connection=no')\n",
    "query = \"SELECT d.Region,c.Categoria,c.Marca,c.Segmento,(CASE WHEN DATEPART(DAY, a.CodigoFecha) BETWEEN 1 AND 15 THEN 1 ELSE 2 END) AS Quincena,DATEPART(MONTH, a.CodigoFecha) AS MES,DATEPART(YEAR, a.CodigoFecha) AS AÑO,SUM(a.VENTASINIGV) AS VSIGV FROM [STRATEGIO_OLAP_PROTISA].[pbix].[Ventas] AS a LEFT JOIN [STRATEGIO_OLAP_PROTISA].[pbix].[Producto] AS c ON a.CodigoProductoDistribuidor = c.CodigoProducto LEFT JOIN [STRATEGIO_OLAP_PROTISA].[pbix].[Distribuidor] AS d ON a.CodigoDistribuidor = d.CodigoDistribuidor LEFT JOIN [STRATEGIO_OLAP_PROTISA].[pbix].[Cliente] AS e ON a.CodigoCliente = e.CodigoCliente WHERE DATEPART(YEAR, a.CodigoFecha)>=2017 AND DATEPART(YEAR, a.CodigoFecha)<=2021 AND a.CodigoDistribuidor not in ('20100239559.0','20100239559.1','20100239559.2','20100239559.3','20100239559.7','20100239559.9') AND c.Marca not in ('Ego','Ideal','Sussy') AND a.CodigoDistribuidor IS NOT NULL AND d.Canal NOT IN ('Farmacia') GROUP BY d.Region,c.Categoria,c.Marca,c.Segmento,(CASE WHEN DATEPART(DAY, a.CodigoFecha) BETWEEN 1 AND 15 THEN 1 ELSE 2 END),DATEPART(MONTH, a.CodigoFecha),DATEPART(YEAR, a.CodigoFecha)\"\n",
    "dataset_2 = pd.read_sql(query,sql_conn)"
   ]
  },
  {
   "cell_type": "code",
   "execution_count": 6,
   "metadata": {},
   "outputs": [
    {
     "data": {
      "text/html": [
       "<div>\n",
       "<style scoped>\n",
       "    .dataframe tbody tr th:only-of-type {\n",
       "        vertical-align: middle;\n",
       "    }\n",
       "\n",
       "    .dataframe tbody tr th {\n",
       "        vertical-align: top;\n",
       "    }\n",
       "\n",
       "    .dataframe thead th {\n",
       "        text-align: right;\n",
       "    }\n",
       "</style>\n",
       "<table border=\"1\" class=\"dataframe\">\n",
       "  <thead>\n",
       "    <tr style=\"text-align: right;\">\n",
       "      <th></th>\n",
       "      <th>Region</th>\n",
       "      <th>Categoria</th>\n",
       "      <th>Marca</th>\n",
       "      <th>Segmento</th>\n",
       "      <th>Quincena</th>\n",
       "      <th>MES</th>\n",
       "      <th>AÑO</th>\n",
       "      <th>VSIGV</th>\n",
       "    </tr>\n",
       "  </thead>\n",
       "  <tbody>\n",
       "    <tr>\n",
       "      <th>0</th>\n",
       "      <td>SUR</td>\n",
       "      <td>02 Rollos de Cocina</td>\n",
       "      <td>001 Elite</td>\n",
       "      <td>10 Masivos</td>\n",
       "      <td>1</td>\n",
       "      <td>7</td>\n",
       "      <td>2020</td>\n",
       "      <td>4.433683e+05</td>\n",
       "    </tr>\n",
       "    <tr>\n",
       "      <th>1</th>\n",
       "      <td>CENTRO-ORIENTE</td>\n",
       "      <td>02 Rollos de Cocina</td>\n",
       "      <td>001 Elite</td>\n",
       "      <td>10 Masivos</td>\n",
       "      <td>2</td>\n",
       "      <td>6</td>\n",
       "      <td>2020</td>\n",
       "      <td>5.309362e+05</td>\n",
       "    </tr>\n",
       "    <tr>\n",
       "      <th>2</th>\n",
       "      <td>CENTRO-ORIENTE</td>\n",
       "      <td>03 Servilletas Masivos</td>\n",
       "      <td>006 Nova</td>\n",
       "      <td>10 Masivos</td>\n",
       "      <td>2</td>\n",
       "      <td>1</td>\n",
       "      <td>2021</td>\n",
       "      <td>3.146259e+05</td>\n",
       "    </tr>\n",
       "    <tr>\n",
       "      <th>3</th>\n",
       "      <td>NORTE</td>\n",
       "      <td>03 Servilletas Masivos</td>\n",
       "      <td>006 Nova</td>\n",
       "      <td>10 Masivos</td>\n",
       "      <td>1</td>\n",
       "      <td>9</td>\n",
       "      <td>2019</td>\n",
       "      <td>7.004505e+03</td>\n",
       "    </tr>\n",
       "    <tr>\n",
       "      <th>4</th>\n",
       "      <td>CENTRO-ORIENTE</td>\n",
       "      <td>05 Pañales Bebe</td>\n",
       "      <td>008 Babysec</td>\n",
       "      <td>30 Productos Sanitarios</td>\n",
       "      <td>1</td>\n",
       "      <td>6</td>\n",
       "      <td>2018</td>\n",
       "      <td>1.950587e+06</td>\n",
       "    </tr>\n",
       "  </tbody>\n",
       "</table>\n",
       "</div>"
      ],
      "text/plain": [
       "           Region               Categoria        Marca  \\\n",
       "0             SUR     02 Rollos de Cocina    001 Elite   \n",
       "1  CENTRO-ORIENTE     02 Rollos de Cocina    001 Elite   \n",
       "2  CENTRO-ORIENTE  03 Servilletas Masivos     006 Nova   \n",
       "3           NORTE  03 Servilletas Masivos     006 Nova   \n",
       "4  CENTRO-ORIENTE         05 Pañales Bebe  008 Babysec   \n",
       "\n",
       "                  Segmento  Quincena  MES   AÑO         VSIGV  \n",
       "0               10 Masivos         1    7  2020  4.433683e+05  \n",
       "1               10 Masivos         2    6  2020  5.309362e+05  \n",
       "2               10 Masivos         2    1  2021  3.146259e+05  \n",
       "3               10 Masivos         1    9  2019  7.004505e+03  \n",
       "4  30 Productos Sanitarios         1    6  2018  1.950587e+06  "
      ]
     },
     "execution_count": 6,
     "metadata": {},
     "output_type": "execute_result"
    }
   ],
   "source": [
    "dataset_2.head() "
   ]
  },
  {
   "cell_type": "code",
   "execution_count": 7,
   "metadata": {},
   "outputs": [],
   "source": [
    "dataset_2.to_csv('vsigv_quincena.csv')"
   ]
  },
  {
   "cell_type": "markdown",
   "metadata": {},
   "source": [
    "## SEMANAL "
   ]
  },
  {
   "cell_type": "code",
   "execution_count": 8,
   "metadata": {},
   "outputs": [],
   "source": [
    "sql_conn = pyodbc.connect('DRIVER={SQL Server};SERVER=51.222.82.146;DATABASE=STRATEGIO_OLAP_PROTISA;UID=Cesar_VS;PWD=Invernalia!2193;Trusted_Connection=no')\n",
    "query = \"SELECT d.Region,c.Categoria,c.Marca,c.Segmento,DATEPART(WEEK,a.CodigoFecha) AS WEEK,YEAR(a.CodigoFecha) AS YEAR,SUM(a.VentaSinIgv) AS VSIGV FROM [STRATEGIO_OLAP_PROTISA].[pbix].[Ventas] AS a LEFT JOIN [STRATEGIO_OLAP_PROTISA].[pbix].[Producto] AS c ON a.CodigoProductoDistribuidor = c.CodigoProducto LEFT JOIN [STRATEGIO_OLAP_PROTISA].[pbix].[Distribuidor] AS d ON a.CodigoDistribuidor = d.CodigoDistribuidor LEFT JOIN [STRATEGIO_OLAP_PROTISA].[pbix].[Cliente] AS e ON a.CodigoCliente = e.CodigoCliente WHERE YEAR(a.CodigoFecha)>=2017 AND YEAR(a.CodigoFecha)<=2021 AND a.CodigoDistribuidor not in ('20100239559.0','20100239559.1','20100239559.2','20100239559.3','20100239559.7','20100239559.9') AND c.Marca not in ('Ego','Ideal','Sussy') AND a.CodigoDistribuidor IS NOT NULL AND d.Canal NOT IN ('Farmacia') GROUP BY d.Region,c.Categoria,c.Marca,c.Segmento,DATEPART(WEEK,a.CodigoFecha),YEAR(a.CodigoFecha)\"\n",
    "dataset_3 = pd.read_sql(query,sql_conn)"
   ]
  },
  {
   "cell_type": "code",
   "execution_count": 9,
   "metadata": {},
   "outputs": [
    {
     "data": {
      "text/html": [
       "<div>\n",
       "<style scoped>\n",
       "    .dataframe tbody tr th:only-of-type {\n",
       "        vertical-align: middle;\n",
       "    }\n",
       "\n",
       "    .dataframe tbody tr th {\n",
       "        vertical-align: top;\n",
       "    }\n",
       "\n",
       "    .dataframe thead th {\n",
       "        text-align: right;\n",
       "    }\n",
       "</style>\n",
       "<table border=\"1\" class=\"dataframe\">\n",
       "  <thead>\n",
       "    <tr style=\"text-align: right;\">\n",
       "      <th></th>\n",
       "      <th>Region</th>\n",
       "      <th>Categoria</th>\n",
       "      <th>Marca</th>\n",
       "      <th>Segmento</th>\n",
       "      <th>WEEK</th>\n",
       "      <th>YEAR</th>\n",
       "      <th>VSIGV</th>\n",
       "    </tr>\n",
       "  </thead>\n",
       "  <tbody>\n",
       "    <tr>\n",
       "      <th>0</th>\n",
       "      <td>CENTRO-ORIENTE</td>\n",
       "      <td>10 Toallas Femeninas</td>\n",
       "      <td>036 Ladysoft</td>\n",
       "      <td>30 Productos Sanitarios</td>\n",
       "      <td>49</td>\n",
       "      <td>2020</td>\n",
       "      <td>1.662838e+05</td>\n",
       "    </tr>\n",
       "    <tr>\n",
       "      <th>1</th>\n",
       "      <td>CENTRO-ORIENTE</td>\n",
       "      <td>01 Higiénicos Masivos</td>\n",
       "      <td>001 Elite</td>\n",
       "      <td>10 Masivos</td>\n",
       "      <td>22</td>\n",
       "      <td>2019</td>\n",
       "      <td>1.825049e+06</td>\n",
       "    </tr>\n",
       "    <tr>\n",
       "      <th>2</th>\n",
       "      <td>NORTE</td>\n",
       "      <td>01 Higiénicos Masivos</td>\n",
       "      <td>001 Elite</td>\n",
       "      <td>10 Masivos</td>\n",
       "      <td>4</td>\n",
       "      <td>2019</td>\n",
       "      <td>7.540100e+06</td>\n",
       "    </tr>\n",
       "    <tr>\n",
       "      <th>3</th>\n",
       "      <td>LIMA</td>\n",
       "      <td>11 Toallas Húmedas</td>\n",
       "      <td>008 Babysec</td>\n",
       "      <td>30 Productos Sanitarios</td>\n",
       "      <td>17</td>\n",
       "      <td>2019</td>\n",
       "      <td>2.962010e+04</td>\n",
       "    </tr>\n",
       "    <tr>\n",
       "      <th>4</th>\n",
       "      <td>LIMA</td>\n",
       "      <td>01 Higiénicos Masivos</td>\n",
       "      <td>001 Elite</td>\n",
       "      <td>10 Masivos</td>\n",
       "      <td>20</td>\n",
       "      <td>2020</td>\n",
       "      <td>5.359688e+06</td>\n",
       "    </tr>\n",
       "  </tbody>\n",
       "</table>\n",
       "</div>"
      ],
      "text/plain": [
       "           Region              Categoria         Marca  \\\n",
       "0  CENTRO-ORIENTE   10 Toallas Femeninas  036 Ladysoft   \n",
       "1  CENTRO-ORIENTE  01 Higiénicos Masivos     001 Elite   \n",
       "2           NORTE  01 Higiénicos Masivos     001 Elite   \n",
       "3            LIMA     11 Toallas Húmedas   008 Babysec   \n",
       "4            LIMA  01 Higiénicos Masivos     001 Elite   \n",
       "\n",
       "                  Segmento  WEEK  YEAR         VSIGV  \n",
       "0  30 Productos Sanitarios    49  2020  1.662838e+05  \n",
       "1               10 Masivos    22  2019  1.825049e+06  \n",
       "2               10 Masivos     4  2019  7.540100e+06  \n",
       "3  30 Productos Sanitarios    17  2019  2.962010e+04  \n",
       "4               10 Masivos    20  2020  5.359688e+06  "
      ]
     },
     "execution_count": 9,
     "metadata": {},
     "output_type": "execute_result"
    }
   ],
   "source": [
    "dataset_3.head()"
   ]
  },
  {
   "cell_type": "code",
   "execution_count": 10,
   "metadata": {},
   "outputs": [],
   "source": [
    "dataset_3.to_csv('vsigv_semanal.csv')"
   ]
  },
  {
   "cell_type": "code",
   "execution_count": null,
   "metadata": {},
   "outputs": [],
   "source": []
  },
  {
   "cell_type": "code",
   "execution_count": null,
   "metadata": {},
   "outputs": [],
   "source": []
  }
 ],
 "metadata": {
  "kernelspec": {
   "display_name": "Python 3",
   "language": "python",
   "name": "python3"
  },
  "language_info": {
   "codemirror_mode": {
    "name": "ipython",
    "version": 3
   },
   "file_extension": ".py",
   "mimetype": "text/x-python",
   "name": "python",
   "nbconvert_exporter": "python",
   "pygments_lexer": "ipython3",
   "version": "3.8.5"
  }
 },
 "nbformat": 4,
 "nbformat_minor": 4
}
